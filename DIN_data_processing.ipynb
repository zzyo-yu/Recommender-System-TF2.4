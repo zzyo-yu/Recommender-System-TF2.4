{
 "cells": [
  {
   "cell_type": "markdown",
   "source": [
    "## 1. 数据预处理"
   ],
   "metadata": {
    "collapsed": false,
    "pycharm": {
     "name": "#%% md\n"
    }
   }
  },
  {
   "cell_type": "code",
   "execution_count": 18,
   "outputs": [],
   "source": [
    "import pickle\n",
    "import pandas as pd\n",
    "import numpy as np\n",
    "import os"
   ],
   "metadata": {
    "collapsed": false,
    "pycharm": {
     "name": "#%%\n"
    }
   }
  },
  {
   "cell_type": "markdown",
   "source": [
    "pickle是python内置的一个序列化库，可以实现任意对象与文本之间的相互转化，\n",
    "也可以实现任意对象与二进制之间的相互转化。"
   ],
   "metadata": {
    "collapsed": false,
    "pycharm": {
     "name": "#%% md\n"
    }
   }
  },
  {
   "cell_type": "code",
   "execution_count": 19,
   "outputs": [],
   "source": [
    "# 写一个方法，用来把json文件一条条的读入并放到一个DF中\n",
    "def to_df(path):\n",
    "    \"\"\"转化为DataFrame结构\n",
    "\n",
    "    :param path: 文件路径\n",
    "    :return:\n",
    "    \"\"\"\n",
    "    with open(path, 'r') as fin:\n",
    "        df = {}\n",
    "        i = 0\n",
    "        for line in fin:\n",
    "            df[i] = eval(line)\n",
    "            i += 1\n",
    "        df = pd.DataFrame.from_dict(df, orient='index')\n",
    "        return df"
   ],
   "metadata": {
    "collapsed": false,
    "pycharm": {
     "name": "#%%\n"
    }
   }
  },
  {
   "cell_type": "markdown",
   "source": [
    "### （1）读取行为数据文件和与元数据文件并存储为pkl格式文件\n",
    "用到了pickle库的函数，该函数用于将 Python 对象转换成二进制文件。\n",
    "\n",
    "API：\n",
    "```python\n",
    "dump (obj, file,protocol=None, *, fix mports=True)\n",
    "```\n",
    "obj:要转换的 Python 对象；\n",
    "file:二进制文件对象，必须以\"wb\"的方式进行操作。\n",
    "protocol:pickle 的转码协议"
   ],
   "metadata": {
    "collapsed": false,
    "pycharm": {
     "name": "#%% md\n"
    }
   }
  },
  {
   "cell_type": "code",
   "execution_count": 20,
   "outputs": [],
   "source": [
    "# 文件path\n",
    "base_path = 'E:/master/其它资料/推荐系统/DIN_data/'\n",
    "electronics_path = base_path + 'Electronics_5.json'\n",
    "reviews_pkl_path = base_path + 'reviews.pkl'\n",
    "meta_path = base_path + 'meta_Electronics.json'\n",
    "meta_pkl_path = base_path + 'meta.pkl'\n",
    "\n",
    "# 防止重复构造pkl文件\n",
    "if os.path.exists(reviews_pkl_path):\n",
    "    pass\n",
    "else:\n",
    "    # 先把行为数据读取为DataFrame\n",
    "    reviews_df = to_df(electronics_path)\n",
    "\n",
    "    # 把行为数据存为pkl文件\n",
    "    with open(reviews_pkl_path, 'wb') as f:\n",
    "        pickle.dump(\n",
    "            reviews_df,\n",
    "            f,\n",
    "            pickle.HIGHEST_PROTOCOL\n",
    "        )\n",
    "\n",
    "if os.path.exists(meta_pkl_path):\n",
    "    pass\n",
    "else:\n",
    "    # 元数据转DataFrame\n",
    "    meta_df = to_df(meta_path)\n",
    "    # 只保留在review_df中出现过的广告\n",
    "    meta_df = meta_df[meta_df['asin'].isin(reviews_df['asin'].unique())]\n",
    "    # 重设index（就是把1，3，4变成1，2，3这种）\n",
    "    meta_df = meta_df.reset_index(drop=True)\n",
    "    # 保存为pkl文件\n",
    "    with open(meta_pkl_path, 'wb') as f:\n",
    "        pickle.dump(\n",
    "            meta_df,\n",
    "            f,\n",
    "            pickle.HIGHEST_PROTOCOL\n",
    "        )"
   ],
   "metadata": {
    "collapsed": false,
    "pycharm": {
     "name": "#%%\n"
    }
   }
  },
  {
   "cell_type": "markdown",
   "source": [
    "### （2）对reviews和meta数据进行处理"
   ],
   "metadata": {
    "collapsed": false,
    "pycharm": {
     "name": "#%% md\n"
    }
   }
  },
  {
   "cell_type": "code",
   "execution_count": 21,
   "outputs": [],
   "source": [
    "# 先读取行为数据和元数据\n",
    "reviews_df = pd.read_pickle(reviews_pkl_path)\n",
    "meta_df = pd.read_pickle(reviews_pkl_path)\n",
    "\n",
    "# 行为数据只保留用户ID，物品ID，时间戳\n",
    "reviews_df = reviews_df[['reviewerID', 'asin', 'unixReviewTime']]\n",
    "# 元数据只保留物品id，所属品类\n",
    "meta_df = pd.read_pickle(meta_pkl_path)\n",
    "meta_df = meta_df[['asin', 'categories']]\n",
    "# 因为有多个类别，这里只保留一个类别\n",
    "meta_df['categories'] = meta_df['categories'].map(lambda x: x[-1][-1])\n"
   ],
   "metadata": {
    "collapsed": false,
    "pycharm": {
     "name": "#%%\n"
    }
   }
  },
  {
   "cell_type": "code",
   "execution_count": 22,
   "outputs": [],
   "source": [
    "def build_map(df, col_name):\n",
    "    \"\"\"制作一个映射，键为列名，值为序列数字\n",
    "\n",
    "    :param df: reviews_df / meta_df\n",
    "    :param col_name: 列名\n",
    "    :return: 字典，键\n",
    "    \"\"\"\n",
    "    # 拿到一列所有不重复的元素\n",
    "    key = sorted(df[col_name].unique().tolist())\n",
    "    # 转为字典 key - 序列数字\n",
    "    m = dict(zip(key, range(len(key))))\n",
    "    # 把该列的内容转为 序列\n",
    "    df[col_name] = df[col_name].map(lambda x: m[x])\n",
    "    # 返回\n",
    "    return m, key"
   ],
   "metadata": {
    "collapsed": false,
    "pycharm": {
     "name": "#%%\n"
    }
   }
  },
  {
   "cell_type": "code",
   "execution_count": 23,
   "outputs": [],
   "source": [
    "# reviews_df文件的用户ID映射\n",
    "revi_map, revi_key = build_map(reviews_df, 'reviewerID')\n",
    "# meta_df文件的物品ID映射\n",
    "asin_map, asin_key = build_map(meta_df, 'asin')\n",
    "# meta_df文件物品种类映射\n",
    "cate_map, cate_key = build_map(meta_df, 'categories')\n",
    "\n",
    "# 根据编码后return的字典获取用户数量，商品数量，品类数，样本数量\n",
    "user_count, item_count = len(revi_map), len(asin_map)\n",
    "cate_count, example_count = len(cate_map), reviews_df.shape[0]"
   ],
   "metadata": {
    "collapsed": false,
    "pycharm": {
     "name": "#%%\n"
    }
   }
  },
  {
   "cell_type": "code",
   "execution_count": null,
   "outputs": [],
   "source": [
    "user_count\n",
    "item_count\n",
    "cate_count\n",
    "example_count"
   ],
   "metadata": {
    "collapsed": false,
    "pycharm": {
     "name": "#%%\n"
    }
   }
  },
  {
   "cell_type": "code",
   "execution_count": 28,
   "outputs": [
    {
     "data": {
      "text/plain": "   asin  categories\n0     0         738\n1     1         157\n2     2         571\n3     3         707\n4     7         799",
      "text/html": "<div>\n<style scoped>\n    .dataframe tbody tr th:only-of-type {\n        vertical-align: middle;\n    }\n\n    .dataframe tbody tr th {\n        vertical-align: top;\n    }\n\n    .dataframe thead th {\n        text-align: right;\n    }\n</style>\n<table border=\"1\" class=\"dataframe\">\n  <thead>\n    <tr style=\"text-align: right;\">\n      <th></th>\n      <th>asin</th>\n      <th>categories</th>\n    </tr>\n  </thead>\n  <tbody>\n    <tr>\n      <th>0</th>\n      <td>0</td>\n      <td>738</td>\n    </tr>\n    <tr>\n      <th>1</th>\n      <td>1</td>\n      <td>157</td>\n    </tr>\n    <tr>\n      <th>2</th>\n      <td>2</td>\n      <td>571</td>\n    </tr>\n    <tr>\n      <th>3</th>\n      <td>3</td>\n      <td>707</td>\n    </tr>\n    <tr>\n      <th>4</th>\n      <td>7</td>\n      <td>799</td>\n    </tr>\n  </tbody>\n</table>\n</div>"
     },
     "execution_count": 28,
     "metadata": {},
     "output_type": "execute_result"
    }
   ],
   "source": [
    "meta_df[:5]"
   ],
   "metadata": {
    "collapsed": false,
    "pycharm": {
     "name": "#%%\n"
    }
   }
  },
  {
   "cell_type": "code",
   "execution_count": 29,
   "outputs": [
    {
     "data": {
      "text/plain": "   reviewerID        asin  unixReviewTime\n0      176008  0528881469      1370131200\n1      173739  0528881469      1290643200\n2      134504  0528881469      1283990400\n3       24476  0528881469      1290556800\n4       57419  0528881469      1317254400",
      "text/html": "<div>\n<style scoped>\n    .dataframe tbody tr th:only-of-type {\n        vertical-align: middle;\n    }\n\n    .dataframe tbody tr th {\n        vertical-align: top;\n    }\n\n    .dataframe thead th {\n        text-align: right;\n    }\n</style>\n<table border=\"1\" class=\"dataframe\">\n  <thead>\n    <tr style=\"text-align: right;\">\n      <th></th>\n      <th>reviewerID</th>\n      <th>asin</th>\n      <th>unixReviewTime</th>\n    </tr>\n  </thead>\n  <tbody>\n    <tr>\n      <th>0</th>\n      <td>176008</td>\n      <td>0528881469</td>\n      <td>1370131200</td>\n    </tr>\n    <tr>\n      <th>1</th>\n      <td>173739</td>\n      <td>0528881469</td>\n      <td>1290643200</td>\n    </tr>\n    <tr>\n      <th>2</th>\n      <td>134504</td>\n      <td>0528881469</td>\n      <td>1283990400</td>\n    </tr>\n    <tr>\n      <th>3</th>\n      <td>24476</td>\n      <td>0528881469</td>\n      <td>1290556800</td>\n    </tr>\n    <tr>\n      <th>4</th>\n      <td>57419</td>\n      <td>0528881469</td>\n      <td>1317254400</td>\n    </tr>\n  </tbody>\n</table>\n</div>"
     },
     "execution_count": 29,
     "metadata": {},
     "output_type": "execute_result"
    }
   ],
   "source": [
    "reviews_df[:5]"
   ],
   "metadata": {
    "collapsed": false,
    "pycharm": {
     "name": "#%%\n"
    }
   }
  },
  {
   "cell_type": "code",
   "execution_count": 30,
   "outputs": [
    {
     "data": {
      "text/plain": "   asin  categories\n0     0         738\n1     1         157\n2     2         571\n3     3         707\n4     4         714",
      "text/html": "<div>\n<style scoped>\n    .dataframe tbody tr th:only-of-type {\n        vertical-align: middle;\n    }\n\n    .dataframe tbody tr th {\n        vertical-align: top;\n    }\n\n    .dataframe thead th {\n        text-align: right;\n    }\n</style>\n<table border=\"1\" class=\"dataframe\">\n  <thead>\n    <tr style=\"text-align: right;\">\n      <th></th>\n      <th>asin</th>\n      <th>categories</th>\n    </tr>\n  </thead>\n  <tbody>\n    <tr>\n      <th>0</th>\n      <td>0</td>\n      <td>738</td>\n    </tr>\n    <tr>\n      <th>1</th>\n      <td>1</td>\n      <td>157</td>\n    </tr>\n    <tr>\n      <th>2</th>\n      <td>2</td>\n      <td>571</td>\n    </tr>\n    <tr>\n      <th>3</th>\n      <td>3</td>\n      <td>707</td>\n    </tr>\n    <tr>\n      <th>4</th>\n      <td>4</td>\n      <td>714</td>\n    </tr>\n  </tbody>\n</table>\n</div>"
     },
     "execution_count": 30,
     "metadata": {},
     "output_type": "execute_result"
    }
   ],
   "source": [
    "# 按物品id排序，并重置索引\n",
    "meta_df = meta_df.sort_values('asin')\n",
    "meta_df = meta_df.reset_index(drop=True)\n",
    "meta_df[:5]"
   ],
   "metadata": {
    "collapsed": false,
    "pycharm": {
     "name": "#%%\n"
    }
   }
  },
  {
   "cell_type": "code",
   "execution_count": 31,
   "outputs": [
    {
     "data": {
      "text/plain": "   reviewerID   asin  unixReviewTime\n0           0  13179      1400457600\n1           0  17993      1400457600\n2           0  28326      1400457600\n3           0  29247      1400457600\n4           0  62275      1400457600",
      "text/html": "<div>\n<style scoped>\n    .dataframe tbody tr th:only-of-type {\n        vertical-align: middle;\n    }\n\n    .dataframe tbody tr th {\n        vertical-align: top;\n    }\n\n    .dataframe thead th {\n        text-align: right;\n    }\n</style>\n<table border=\"1\" class=\"dataframe\">\n  <thead>\n    <tr style=\"text-align: right;\">\n      <th></th>\n      <th>reviewerID</th>\n      <th>asin</th>\n      <th>unixReviewTime</th>\n    </tr>\n  </thead>\n  <tbody>\n    <tr>\n      <th>0</th>\n      <td>0</td>\n      <td>13179</td>\n      <td>1400457600</td>\n    </tr>\n    <tr>\n      <th>1</th>\n      <td>0</td>\n      <td>17993</td>\n      <td>1400457600</td>\n    </tr>\n    <tr>\n      <th>2</th>\n      <td>0</td>\n      <td>28326</td>\n      <td>1400457600</td>\n    </tr>\n    <tr>\n      <th>3</th>\n      <td>0</td>\n      <td>29247</td>\n      <td>1400457600</td>\n    </tr>\n    <tr>\n      <th>4</th>\n      <td>0</td>\n      <td>62275</td>\n      <td>1400457600</td>\n    </tr>\n  </tbody>\n</table>\n</div>"
     },
     "execution_count": 31,
     "metadata": {},
     "output_type": "execute_result"
    }
   ],
   "source": [
    "# reviews_df文件物品id进行映射\n",
    "reviews_df['asin'] = reviews_df['asin'].map(lambda x: asin_map[x])\n",
    "# 按照用户id、浏览时间进行排序\n",
    "reviews_df = reviews_df.sort_values(['reviewerID', 'unixReviewTime'])\n",
    "# 重置索引\n",
    "reviews_df = reviews_df.reset_index(drop=True)\n",
    "reviews_df = reviews_df[['reviewerID', 'asin', 'unixReviewTime']]\n",
    "\n",
    "reviews_df[:5]"
   ],
   "metadata": {
    "collapsed": false,
    "pycharm": {
     "name": "#%%\n"
    }
   }
  },
  {
   "cell_type": "code",
   "execution_count": 32,
   "outputs": [
    {
     "data": {
      "text/plain": "array([738, 157, 571, ...,  63, 674, 351])"
     },
     "execution_count": 32,
     "metadata": {},
     "output_type": "execute_result"
    }
   ],
   "source": [
    "# 各个物品对应的类别\n",
    "cate_list = np.array(meta_df['categories'], dtype='int32')\n",
    "cate_list"
   ],
   "metadata": {
    "collapsed": false,
    "pycharm": {
     "name": "#%%\n"
    }
   }
  },
  {
   "cell_type": "code",
   "execution_count": 33,
   "outputs": [],
   "source": [
    "# 保存所需数据为pkl文件\n",
    "remap_pkl_path = base_path + 'remap.pkl'\n",
    "with open(remap_pkl_path, 'wb') as f:\n",
    "    # 行为数据\n",
    "    pickle.dump(\n",
    "        reviews_df,\n",
    "        f,\n",
    "        pickle.HIGHEST_PROTOCOL\n",
    "    )\n",
    "    # 商品对应类别\n",
    "    pickle.dump(\n",
    "        cate_list,\n",
    "        f,\n",
    "        pickle.HIGHEST_PROTOCOL\n",
    "    )\n",
    "    # 统计数据\n",
    "    pickle.dump(\n",
    "        (user_count, item_count, cate_count, example_count),\n",
    "        f,\n",
    "        pickle.HIGHEST_PROTOCOL\n",
    "    )\n",
    "    # 不重复元素（下标即序号）\n",
    "    pickle.dump(\n",
    "        (asin_key, cate_key, revi_key),\n",
    "        f,\n",
    "        pickle.HIGHEST_PROTOCOL\n",
    "    )"
   ],
   "metadata": {
    "collapsed": false,
    "pycharm": {
     "name": "#%%\n"
    }
   }
  }
 ],
 "metadata": {
  "kernelspec": {
   "display_name": "Python 3",
   "language": "python",
   "name": "python3"
  },
  "language_info": {
   "codemirror_mode": {
    "name": "ipython",
    "version": 2
   },
   "file_extension": ".py",
   "mimetype": "text/x-python",
   "name": "python",
   "nbconvert_exporter": "python",
   "pygments_lexer": "ipython2",
   "version": "2.7.6"
  }
 },
 "nbformat": 4,
 "nbformat_minor": 0
}